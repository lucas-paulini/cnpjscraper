{
 "cells": [
  {
   "cell_type": "code",
   "execution_count": null,
   "metadata": {},
   "outputs": [],
   "source": [
    "import glob\n",
    "import pandas as pd\n",
    "import openpyxl\n",
    "import os"
   ]
  },
  {
   "cell_type": "code",
   "execution_count": null,
   "metadata": {},
   "outputs": [],
   "source": [
    "dados =glob.glob('planilhas\\*.xlsx')"
   ]
  },
  {
   "cell_type": "code",
   "execution_count": null,
   "metadata": {},
   "outputs": [],
   "source": [
    "dados"
   ]
  },
  {
   "cell_type": "code",
   "execution_count": null,
   "metadata": {},
   "outputs": [],
   "source": [
    "dados_historicos = pd.DataFrame()\n",
    "\n",
    "for i in dados:\n",
    "    tabela = pd.read_excel(i)\n",
    "    dados_historicos = pd.concat([dados_historicos, tabela], axis=0, ignore_index=True)"
   ]
  },
  {
   "cell_type": "code",
   "execution_count": null,
   "metadata": {},
   "outputs": [],
   "source": [
    "dados_historicos.head()"
   ]
  },
  {
   "cell_type": "code",
   "execution_count": null,
   "metadata": {},
   "outputs": [],
   "source": [
    "dados_historicos.shape"
   ]
  },
  {
   "cell_type": "code",
   "execution_count": null,
   "metadata": {},
   "outputs": [],
   "source": [
    "dados_historicos['cnpj'].unique()"
   ]
  },
  {
   "cell_type": "code",
   "execution_count": null,
   "metadata": {},
   "outputs": [],
   "source": [
    "dados_historicos.drop_duplicates('cnpj', keep='first', inplace=True)\n",
    "dados_historicos.shape"
   ]
  },
  {
   "cell_type": "code",
   "execution_count": null,
   "metadata": {},
   "outputs": [],
   "source": [
    "# Define o nome base do arquivo\n",
    "nome_arquivo = 'planilha-com-cnpj-advogados-unificado'\n",
    "\n",
    "# Obtém o caminho do diretório atual\n",
    "diretorio_atual = os.getcwd()\n",
    "\n",
    "# Nome da pasta onde deseja salvar o arquivo\n",
    "nome_pasta = 'planilhas unificadas'\n",
    "\n",
    "# Concatena o caminho do diretório atual com o nome da pasta\n",
    "caminho_pasta = os.path.join(diretorio_atual, nome_pasta)\n",
    "\n",
    "# Verifica se a pasta existe e a cria se não existir\n",
    "if not os.path.exists(caminho_pasta):\n",
    "    os.makedirs(caminho_pasta)\n",
    "\n"
   ]
  },
  {
   "cell_type": "code",
   "execution_count": null,
   "metadata": {},
   "outputs": [],
   "source": [
    "for i in range(50):\n",
    "    try:\n",
    "        # Define o nome do arquivo com base no número de tentativas\n",
    "        nome_arquivo_com_numero = nome_arquivo if i == 0 else f'{nome_arquivo}_{i}'\n",
    "\n",
    "        # Define o caminho completo do arquivo\n",
    "        caminho_arquivo = os.path.join(caminho_pasta, f'{nome_arquivo_com_numero}.xlsx')\n",
    "\n",
    "        # Verifica se o arquivo com o nome atual já existe\n",
    "        if os.path.exists(caminho_arquivo):\n",
    "            # Se existir, continua para a próxima tentativa\n",
    "            continue\n",
    "        else:\n",
    "            # Se não existir, salva o arquivo com o nome atual\n",
    "            dados_historicos.to_excel(caminho_arquivo, index=False)\n",
    "            print(f'Arquivo \"{nome_arquivo_com_numero}.xlsx\" salvo com sucesso.')\n",
    "            break  # Sair do loop após salvar o arquivo com sucesso\n",
    "    except Exception as e:\n",
    "        print(f\"Erro ao salvar arquivo: {e}\")\n",
    "        continue"
   ]
  }
 ],
 "metadata": {
  "kernelspec": {
   "display_name": "venv",
   "language": "python",
   "name": "python3"
  },
  "language_info": {
   "codemirror_mode": {
    "name": "ipython",
    "version": 3
   },
   "file_extension": ".py",
   "mimetype": "text/x-python",
   "name": "python",
   "nbconvert_exporter": "python",
   "pygments_lexer": "ipython3",
   "version": "3.10.11"
  }
 },
 "nbformat": 4,
 "nbformat_minor": 2
}
